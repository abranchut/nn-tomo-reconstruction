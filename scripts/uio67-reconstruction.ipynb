{
 "cells": [
  {
   "cell_type": "markdown",
   "metadata": {},
   "source": [
    "The script used to generate the data for the parts 2.3 and 2.4 of the report. \n",
    "\n",
    "In the first part, we compare networks with ReLU or Sigmoid activation and with or without exponential binning. The goal is only to compare the training speed.\n",
    "In the second part, we compare FBP, SIRT, NNFPB in the reconstruction of a MOF particle from HSH75-Pd-HAADF_hdr0.ali (this code works for .mrc and .ali files), a stack of 29 projections between -70° and 70°.\n",
    "\n",
    "For an introduction on Python classes, see tutorial_classes.ipynb.\n",
    "For an introduction on how neural networks works, see https://www.3blue1brown.com/topics/neural-networks.\n",
    "For more details about the training procedure and the overall pytorch framework, see https://pytorch.org/tutorials/beginner/basics/intro.html.\n",
    "\n",
    "For more details about a particular function / method, see the specific documentation in the code.\n",
    "\n",
    "For more details about NN-FBP implementation, see the original article: Fast Tomographic Reconstruction from Limited Data Using Artificial Neural\n",
    "Networks, D. M. Pelt and al., 2013 (https://ieeexplore.ieee.org/document/6607157)."
   ]
  },
  {
   "cell_type": "code",
   "execution_count": 1,
   "metadata": {},
   "outputs": [],
   "source": [
    "### Imports ###\n",
    "\n",
    "from nntomo.utilities import get_MSE_loss\n",
    "from nntomo.network import nnfbp_training, get_MSE_evolution\n",
    "from nntomo.nnfbp import DatasetNNFBP\n",
    "from nntomo.projection_stack import ProjectionStack\n",
    "from nntomo.volume import Volume\n",
    "import matplotlib.pyplot as plt\n",
    "import numpy as np\n",
    "\n",
    "%load_ext autoreload\n",
    "%autoreload 2"
   ]
  },
  {
   "cell_type": "code",
   "execution_count": 2,
   "metadata": {},
   "outputs": [],
   "source": [
    "Nh = 8"
   ]
  },
  {
   "cell_type": "markdown",
   "metadata": {},
   "source": [
    "### I. Influence of the activation function and the binning procedure on the training process"
   ]
  },
  {
   "cell_type": "code",
   "execution_count": 4,
   "metadata": {},
   "outputs": [
    {
     "name": "stdout",
     "output_type": "stream",
     "text": [
      "Generation of the spheres: [████████████████████████████████████████████████████████████] 40/40 Est wait 00:0.00\n",
      "\n",
      "Generation of the spheres: [████████████████████████████████████████████████████████████] 40/40 Est wait 00:0.00\n",
      "\n"
     ]
    }
   ],
   "source": [
    "# Generation of the training and validation datasets\n",
    "\n",
    "training_spheres = Volume.random_spheres(40, shape=512, set01 = True)\n",
    "training_projections = ProjectionStack.from_volume(training_spheres, 9, 'full')\n",
    "training_dataset_bin = DatasetNNFBP(training_projections, training_spheres, n_input = 10_000)\n",
    "training_dataset_nobin = DatasetNNFBP(training_projections, training_spheres, n_input = 10_000, binning = False)\n",
    "\n",
    "validation_spheres = Volume.random_spheres(40, shape=512, set01 = True)\n",
    "validation_projections = ProjectionStack.from_volume(validation_spheres, 9, 'full')\n",
    "validation_dataset_bin = DatasetNNFBP(validation_projections, validation_spheres, n_input = 10_000)\n",
    "validation_dataset_nobin = DatasetNNFBP(validation_projections, validation_spheres, n_input = 10_000, binning = False)"
   ]
  },
  {
   "cell_type": "markdown",
   "metadata": {},
   "source": [
    "<pre>\n",
    "The random spheres:                                                  9 projections:\n",
    "\n",
    "<img src=\"data/gifs/random_spheres.gif\" width=\"300\"/>                              <img src=\"data/gifs/randspheres_proj.gif\" width=\"300\"/>\n",
    "</pre>"
   ]
  },
  {
   "cell_type": "code",
   "execution_count": 5,
   "metadata": {},
   "outputs": [
    {
     "name": "stdout",
     "output_type": "stream",
     "text": [
      "Epoch 51 (n=0) | Best avg MSELoss(): 0.013128 | End of training                                 \n",
      "Epoch 51 (n=0) | Best avg MSELoss(): 0.013685 | End of training                                 \n",
      "Epoch 51 (n=4) | Best avg MSELoss(): 0.004836 | End of training                                 \n",
      "Epoch 51 (n=0) | Best avg MSELoss(): 0.013586 | End of training                                 \n"
     ]
    }
   ],
   "source": [
    "# Training of the 4 networks\n",
    "\n",
    "network_relu_bin = nnfbp_training(training_dataset_bin, validation_dataset_bin, Nh, max_epoch=50, custom_id='relu_bin')\n",
    "network_sigm_bin = nnfbp_training(training_dataset_bin, validation_dataset_bin, Nh, max_epoch=50, activation='sigmoid', custom_id='sigm_bin')\n",
    "network_relu_nobin = nnfbp_training(training_dataset_nobin, validation_dataset_nobin, Nh, max_epoch=50, custom_id='relu_nobin')\n",
    "network_sigm_nobin = nnfbp_training(training_dataset_nobin, validation_dataset_nobin, Nh, max_epoch=50, activation='sigmoid', custom_id='sigm_nobin')"
   ]
  },
  {
   "cell_type": "code",
   "execution_count": 6,
   "metadata": {},
   "outputs": [
    {
     "name": "stdout",
     "output_type": "stream",
     "text": [
      "Generation of the spheres: [████████████████████████████████████████████████████████████] 40/40 Est wait 00:0.00\n",
      "\n",
      "MSE computations:[████████████████████████████████████████████████████████████] 51/51 Est wait 00:0.05\n",
      "\n",
      "\n",
      "MSE computations:[████████████████████████████████████████████████████████████] 51/51 Est wait 00:0.05\n",
      "\n",
      "\n",
      "MSE computations:[████████████████████████████████████████████████████████████] 51/51 Est wait 00:0.04\n",
      "\n",
      "\n",
      "MSE computations:[████████████████████████████████████████████████████████████] 51/51 Est wait 00:0.04\n",
      "\n",
      "\n"
     ]
    }
   ],
   "source": [
    "# Computation of the evolution of MSE during training - we test on an other set of random spheres\n",
    "\n",
    "test_spheres = Volume.random_spheres(40, shape=512, set01 = True)\n",
    "test_projections = ProjectionStack.from_volume(test_spheres, 9, 'full')\n",
    "\n",
    "mse_relu_bin = get_MSE_evolution(network_relu_bin.id, test_projections, test_spheres, threshold=.5)\n",
    "mse_sigm_bin = get_MSE_evolution(network_sigm_bin.id, test_projections, test_spheres, threshold=.5)\n",
    "mse_relu_nobin = get_MSE_evolution(network_relu_nobin.id, test_projections, test_spheres, threshold=.5)\n",
    "mse_sigm_nobin = get_MSE_evolution(network_sigm_nobin.id, test_projections, test_spheres, threshold=.5)"
   ]
  },
  {
   "cell_type": "code",
   "execution_count": null,
   "metadata": {},
   "outputs": [],
   "source": [
    "plt.plot(mse_relu_bin, label='ReLu + binning')\n",
    "plt.plot(mse_sigm_bin, label='Sigmoid + binning')\n",
    "plt.plot(mse_relu_nobin, label='ReLu, no binning')\n",
    "plt.plot(mse_sigm_nobin, label='Sigmoid, no binning')\n",
    "plt.xlabel(\"epoch\")\n",
    "plt.ylabel(\"MSE\")\n",
    "plt.title(\"Evolution of MSE during training for the test volume, for NNFBP models with\\n different activation functions and with or without exponential binning.\\n\"\n",
    "          \"Each model has 8 hidden nodes and is trained to reconstruct random spheres \\nwith 9 projections. Before computing the MSE, voxels of the NNFBP are \\n\"\n",
    "          \"set to 0 or 1, with a segmentation threshold of 0.5.\")\n",
    "plt.grid()\n",
    "plt.legend()\n",
    "plt.xlim(0,50)\n",
    "plt.ylim(0,0.06)\n",
    "plt.show()"
   ]
  },
  {
   "cell_type": "markdown",
   "metadata": {},
   "source": [
    "### II. Comparison of reconstruction methods"
   ]
  },
  {
   "cell_type": "markdown",
   "metadata": {},
   "source": [
    "<pre>\n",
    "The original 29 projections from STEM measurements.           A subset of 8 projections\n",
    "\n",
    "<img src=\"data/gifs/particule_29projs.gif\" width=\"300\"/>                                  <img src=\"data/gifs/particule_8projs.gif\" width=\"300\"/>\n",
    "</pre>"
   ]
  },
  {
   "cell_type": "code",
   "execution_count": 10,
   "metadata": {},
   "outputs": [
    {
     "name": "stderr",
     "output_type": "stream",
     "text": [
      "Map ID string not found - not an MRC file, or file is corrupt\n",
      "Unrecognised machine stamp: 0x00 0x00 0x00 0x00\n"
     ]
    },
    {
     "name": "stdout",
     "output_type": "stream",
     "text": [
      "Saving volume...\n",
      "File saved at c:\\Users\\Admin-tomo\\Documents\\tomo-reconstruction-alix\\github_repository\\nn-tomo-reconstruction\\scripts\\data\\volume_files\\sirt_HSH75-Pd-HAADF_hdr0-resized512.mrc.\n",
      " ID: sirt_HSH75-Pd-HAADF_hdr0-resized512\n",
      "-471.53085 443.48975\n"
     ]
    }
   ],
   "source": [
    "# Data import\n",
    "\n",
    "mof_projections_file = \"data/projection_files/HSH75-Pd-HAADF_hdr0.ali\"\n",
    "mof_29proj = ProjectionStack.from_mrc_file(mof_projections_file, 'tem').get_resized_proj(512)\n",
    "sirt_29proj = mof_29proj.get_SIRT_reconstruction(min_eps_var=0.01, print_n_iter=True, force_positive_values=False)\n",
    "sirt_29proj.save()\n",
    "print(sirt_29proj.volume.min(), sirt_29proj.volume.max())"
   ]
  },
  {
   "cell_type": "code",
   "execution_count": 11,
   "metadata": {},
   "outputs": [
    {
     "name": "stdout",
     "output_type": "stream",
     "text": [
      "Saving projections...\n",
      "File saved at c:\\Users\\Admin-tomo\\Documents\\tomo-reconstruction-alix\\github_repository\\nn-tomo-reconstruction\\scripts\\data\\projection_files\\sirt_HSH75-Pd-HAADF_hdr0-resized512-segm0.74-tem29th.mrc.\n",
      " ID: sirt_HSH75-Pd-HAADF_hdr0-resized512-segm0.74-tem29th\n"
     ]
    }
   ],
   "source": [
    "# Chosen SIRT segmentation threshold, computation of the associated projections. These projections will be used aterward for reconstruction, and the segmented SIRT will be used\n",
    "# as a reference volume (see report for more explanations).\n",
    "\n",
    "sirt_29proj = sirt_29proj.get_segmented_volume(188/255)\n",
    "mof_29proj = ProjectionStack.from_volume(sirt_29proj, 29, 'tem')\n",
    "mof_29proj.save()"
   ]
  },
  {
   "cell_type": "markdown",
   "metadata": {},
   "source": [
    "<pre>\n",
    "The SIRT reference reconstruction:                       The 29 associated projections:\n",
    "\n",
    "<img src=\"data/gifs/particule_sirtref.gif\" width=\"300\"/>                              <img src=\"data/gifs/particule_sirtrefprojs.gif\" width=\"300\"/>\n",
    "</pre>"
   ]
  },
  {
   "cell_type": "code",
   "execution_count": null,
   "metadata": {},
   "outputs": [],
   "source": [
    "list_Nth = [9, 18, 36]\n",
    "list_tem_Nth = [8, 15, 29]"
   ]
  },
  {
   "cell_type": "code",
   "execution_count": 6,
   "metadata": {},
   "outputs": [
    {
     "name": "stdout",
     "output_type": "stream",
     "text": [
      "Generation of the spheres: [████████████████████████████████████████████████████████████] 40/40 Est wait 00:0.00\n",
      "\n",
      "Generation of the spheres: [████████████████████████████████████████████████████████████] 40/40 Est wait 00:0.00\n",
      "\n"
     ]
    }
   ],
   "source": [
    "# Datasets for NNFBP trained wih spheres\n",
    "\n",
    "training_spheres = Volume.random_spheres(40, shape=512)\n",
    "list_training_projections_spheres = [ProjectionStack.from_volume(training_spheres, i, 'full') for i in list_Nth]\n",
    "list_training_datasets_spheres = [DatasetNNFBP(training_projections, training_spheres) for training_projections in list_training_projections_spheres]\n",
    "\n",
    "validation_spheres = Volume.random_spheres(40, shape=512)\n",
    "list_validation_projections_spheres = [ProjectionStack.from_volume(validation_spheres, i, 'full') for i in list_Nth]\n",
    "list_validation_datasets_spheres = [DatasetNNFBP(validation_projections, validation_spheres) for validation_projections in list_validation_projections_spheres]"
   ]
  },
  {
   "cell_type": "code",
   "execution_count": 14,
   "metadata": {},
   "outputs": [
    {
     "name": "stdout",
     "output_type": "stream",
     "text": [
      "Epoch 77 (n=25) | Best avg MSELoss(): 0.040412 | End of training                                 \n",
      "Epoch 118 (n=25) | Best avg MSELoss(): 0.029567 | End of training                                 \n",
      "Epoch 133 (n=25) | Best avg MSELoss(): 0.025787 | End of training                                 \n"
     ]
    }
   ],
   "source": [
    "# NNFBP-Spheres training\n",
    "\n",
    "list_networks_spheres = []\n",
    "for i in range(len(list_Nth)):\n",
    "    list_networks_spheres.append(nnfbp_training(list_training_datasets_spheres[i], list_validation_datasets_spheres[i], Nh))"
   ]
  },
  {
   "cell_type": "code",
   "execution_count": 15,
   "metadata": {},
   "outputs": [
    {
     "name": "stdout",
     "output_type": "stream",
     "text": [
      "Generation of the ellipses: [████████████████████████████████████████████████████████████] 100/100 Est wait 00:0.0\n",
      "\n",
      "Generation of the ellipses: [████████████████████████████████████████████████████████████] 100/100 Est wait 00:0.0\n",
      "\n"
     ]
    }
   ],
   "source": [
    "# Datasets for NNFBP trained wih ellipses\n",
    "\n",
    "training_ellipses = Volume.stack_7ellipses(100, shape=512)\n",
    "list_training_projections_ellipses = [ProjectionStack.from_volume(training_ellipses, i, 'full') for i in list_Nth]\n",
    "list_training_datasets_ellipses = [DatasetNNFBP(training_projections, training_ellipses) for training_projections in list_training_projections_ellipses]\n",
    "\n",
    "validation_ellipses = Volume.stack_7ellipses(100, shape=512)\n",
    "list_validation_projections_ellipses = [ProjectionStack.from_volume(validation_ellipses, i, 'full') for i in list_Nth]\n",
    "list_validation_datasets_ellipses = [DatasetNNFBP(validation_projections, validation_ellipses) for validation_projections in list_validation_projections_ellipses]"
   ]
  },
  {
   "cell_type": "code",
   "execution_count": 16,
   "metadata": {},
   "outputs": [
    {
     "name": "stdout",
     "output_type": "stream",
     "text": [
      "Epoch 151 (n=25) | Best avg MSELoss(): 0.182200 | End of training                                 \n",
      "Epoch 115 (n=25) | Best avg MSELoss(): 0.108085 | End of training                                 \n",
      "Epoch 186 (n=25) | Best avg MSELoss(): 0.080389 | End of training                                 \n"
     ]
    }
   ],
   "source": [
    "# NNFBP-Ellipses training\n",
    "\n",
    "list_networks_ellipses = []\n",
    "for i in range(len(list_Nth)):\n",
    "    list_networks_ellipses.append(nnfbp_training(list_training_datasets_ellipses[i], list_validation_datasets_ellipses[i], Nh))"
   ]
  },
  {
   "cell_type": "code",
   "execution_count": 17,
   "metadata": {},
   "outputs": [
    {
     "name": "stdout",
     "output_type": "stream",
     "text": [
      "Saving volume...\n",
      "File saved at c:\\Users\\Admin-tomo\\Documents\\tomo-reconstruction-alix\\github_repository\\nn-tomo-reconstruction\\scripts\\data\\volume_files\\fbp_sirt_HSH75-Pd-HAADF_hdr0-resized512-segm0.74-tem29th-sub8.mrc.\n",
      " ID: fbp_sirt_HSH75-Pd-HAADF_hdr0-resized512-segm0.74-tem29th-sub8\n",
      "Saving volume...\n",
      "File saved at c:\\Users\\Admin-tomo\\Documents\\tomo-reconstruction-alix\\github_repository\\nn-tomo-reconstruction\\scripts\\data\\volume_files\\sirt_sirt_HSH75-Pd-HAADF_hdr0-resized512-segm0.74-tem29th-sub8.mrc.\n",
      " ID: sirt_sirt_HSH75-Pd-HAADF_hdr0-resized512-segm0.74-tem29th-sub8\n",
      "Saving volume...\n",
      "File saved at c:\\Users\\Admin-tomo\\Documents\\tomo-reconstruction-alix\\github_repository\\nn-tomo-reconstruction\\scripts\\data\\volume_files\\nnfbp[randspheres512-full9th][randspheres512]bin8h_sirt_HSH75-Pd-HAADF_hdr0-resized512-segm0.74-tem29th-sub8.mrc.\n",
      " ID: nnfbp[randspheres512-full9th][randspheres512]bin8h_sirt_HSH75-Pd-HAADF_hdr0-resized512-segm0.74-tem29th-sub8\n",
      "Saving volume...\n",
      "File saved at c:\\Users\\Admin-tomo\\Documents\\tomo-reconstruction-alix\\github_repository\\nn-tomo-reconstruction\\scripts\\data\\volume_files\\nnfbp[rand7ellipses512-full9th][rand7ellipses512]bin8h_sirt_HSH75-Pd-HAADF_hdr0-resized512-segm0.74-tem29th-sub8.mrc.\n",
      " ID: nnfbp[rand7ellipses512-full9th][rand7ellipses512]bin8h_sirt_HSH75-Pd-HAADF_hdr0-resized512-segm0.74-tem29th-sub8\n",
      "Saving volume...\n",
      "File saved at c:\\Users\\Admin-tomo\\Documents\\tomo-reconstruction-alix\\github_repository\\nn-tomo-reconstruction\\scripts\\data\\volume_files\\fbp_sirt_HSH75-Pd-HAADF_hdr0-resized512-segm0.74-tem29th-sub15.mrc.\n",
      " ID: fbp_sirt_HSH75-Pd-HAADF_hdr0-resized512-segm0.74-tem29th-sub15\n",
      "Saving volume...\n",
      "File saved at c:\\Users\\Admin-tomo\\Documents\\tomo-reconstruction-alix\\github_repository\\nn-tomo-reconstruction\\scripts\\data\\volume_files\\sirt_sirt_HSH75-Pd-HAADF_hdr0-resized512-segm0.74-tem29th-sub15.mrc.\n",
      " ID: sirt_sirt_HSH75-Pd-HAADF_hdr0-resized512-segm0.74-tem29th-sub15\n",
      "Saving volume...\n",
      "File saved at c:\\Users\\Admin-tomo\\Documents\\tomo-reconstruction-alix\\github_repository\\nn-tomo-reconstruction\\scripts\\data\\volume_files\\nnfbp[randspheres512-full18th][randspheres512]bin8h_sirt_HSH75-Pd-HAADF_hdr0-resized512-segm0.74-tem29th-sub15.mrc.\n",
      " ID: nnfbp[randspheres512-full18th][randspheres512]bin8h_sirt_HSH75-Pd-HAADF_hdr0-resized512-segm0.74-tem29th-sub15\n",
      "Saving volume...\n",
      "File saved at c:\\Users\\Admin-tomo\\Documents\\tomo-reconstruction-alix\\github_repository\\nn-tomo-reconstruction\\scripts\\data\\volume_files\\nnfbp[rand7ellipses512-full18th][rand7ellipses512]bin8h_sirt_HSH75-Pd-HAADF_hdr0-resized512-segm0.74-tem29th-sub15.mrc.\n",
      " ID: nnfbp[rand7ellipses512-full18th][rand7ellipses512]bin8h_sirt_HSH75-Pd-HAADF_hdr0-resized512-segm0.74-tem29th-sub15\n",
      "Saving volume...\n",
      "File saved at c:\\Users\\Admin-tomo\\Documents\\tomo-reconstruction-alix\\github_repository\\nn-tomo-reconstruction\\scripts\\data\\volume_files\\fbp_sirt_HSH75-Pd-HAADF_hdr0-resized512-segm0.74-tem29th-sub29.mrc.\n",
      " ID: fbp_sirt_HSH75-Pd-HAADF_hdr0-resized512-segm0.74-tem29th-sub29\n",
      "Saving volume...\n",
      "File saved at c:\\Users\\Admin-tomo\\Documents\\tomo-reconstruction-alix\\github_repository\\nn-tomo-reconstruction\\scripts\\data\\volume_files\\sirt_sirt_HSH75-Pd-HAADF_hdr0-resized512-segm0.74-tem29th-sub29.mrc.\n",
      " ID: sirt_sirt_HSH75-Pd-HAADF_hdr0-resized512-segm0.74-tem29th-sub29\n",
      "Saving volume...\n",
      "File saved at c:\\Users\\Admin-tomo\\Documents\\tomo-reconstruction-alix\\github_repository\\nn-tomo-reconstruction\\scripts\\data\\volume_files\\nnfbp[randspheres512-full36th][randspheres512]bin8h_sirt_HSH75-Pd-HAADF_hdr0-resized512-segm0.74-tem29th-sub29.mrc.\n",
      " ID: nnfbp[randspheres512-full36th][randspheres512]bin8h_sirt_HSH75-Pd-HAADF_hdr0-resized512-segm0.74-tem29th-sub29\n",
      "Saving volume...\n",
      "File saved at c:\\Users\\Admin-tomo\\Documents\\tomo-reconstruction-alix\\github_repository\\nn-tomo-reconstruction\\scripts\\data\\volume_files\\nnfbp[rand7ellipses512-full36th][rand7ellipses512]bin8h_sirt_HSH75-Pd-HAADF_hdr0-resized512-segm0.74-tem29th-sub29.mrc.\n",
      " ID: nnfbp[rand7ellipses512-full36th][rand7ellipses512]bin8h_sirt_HSH75-Pd-HAADF_hdr0-resized512-segm0.74-tem29th-sub29\n"
     ]
    }
   ],
   "source": [
    "# MSE computations\n",
    "\n",
    "mse_fbp = []\n",
    "mse_sirt = []\n",
    "mse_nnfbp_spheres = []\n",
    "mse_nnfbp_ellipses = []\n",
    "\n",
    "for i in range(len(list_Nth)):\n",
    "    uio67_stack_sub = mof_29proj.get_proj_subset(list_tem_Nth[i])\n",
    "\n",
    "    fbp_rec = uio67_stack_sub.get_FBP_reconstruction()\n",
    "    fbp_rec.save()\n",
    "    mse_fbp.append(get_MSE_loss(sirt_29proj, fbp_rec, only_inscribed_disc=True))\n",
    "\n",
    "    sirt_rec = uio67_stack_sub.get_SIRT_reconstruction(min_eps_var=0.01, print_n_iter=True, force_positive_values=False)\n",
    "    sirt_rec.save()\n",
    "    mse_sirt.append(get_MSE_loss(sirt_29proj, sirt_rec, only_inscribed_disc=True))\n",
    "\n",
    "    nnfbp_rec_spheres = uio67_stack_sub.get_NNFBP_reconstruction(list_networks_spheres[i], show_progressbar=False)\n",
    "    nnfbp_rec_spheres.save()\n",
    "    mse_nnfbp_spheres.append(get_MSE_loss(sirt_29proj, nnfbp_rec_spheres, only_inscribed_disc=True))\n",
    "\n",
    "    nnfbp_rec_ellipses = uio67_stack_sub.get_NNFBP_reconstruction(list_networks_ellipses[i], show_progressbar=False)\n",
    "    nnfbp_rec_ellipses.save()\n",
    "    mse_nnfbp_ellipses.append(get_MSE_loss(sirt_29proj, nnfbp_rec_ellipses, only_inscribed_disc=True))"
   ]
  },
  {
   "cell_type": "code",
   "execution_count": 19,
   "metadata": {},
   "outputs": [
    {
     "name": "stdout",
     "output_type": "stream",
     "text": [
      "[0.005126405507326126, 0.0023970601614564657, 0.0011802257504314184] [0.0007900000782683492, 0.0004732541274279356, 0.00033784506376832724] [0.0002450369647704065, 0.00014637723506893963, 0.0003062390023842454] [0.0002431623579468578, 0.00018206653476227075, 0.00012597112799994648]\n"
     ]
    },
    {
     "data": {
      "image/png": "[encoded data removed]",
      "text/plain": [
       "<Figure size 800x600 with 1 Axes>"
      ]
     },
     "metadata": {},
     "output_type": "display_data"
    }
   ],
   "source": [
    "mse_lists = {\n",
    "    'FBP rec.': mse_fbp,\n",
    "    'SIRT rec.': mse_sirt,\n",
    "    'NNFBP-Spheres rec.': mse_nnfbp_spheres,\n",
    "    'NNFBP-Ellipses rec.': mse_nnfbp_ellipses,\n",
    "}\n",
    "\n",
    "x = np.arange(len(mse_sirt))  # the label locations\n",
    "width = 0.1  # the width of the bars\n",
    "multiplier = 0\n",
    "\n",
    "fig, ax = plt.subplots(layout='constrained', figsize=(8,6))\n",
    "\n",
    "for attribute, measurement in mse_lists.items():\n",
    "    offset = width * multiplier\n",
    "    rects = ax.bar(x + offset, measurement, width, label=attribute)\n",
    "    multiplier += 1\n",
    "\n",
    "# Add some text for labels, title and custom x-axis tick labels, etc.\n",
    "ax.set_xlabel(\"Number of projections in the subset\")\n",
    "ax.set_ylabel('MSE compared to reference SIRT (29 projections)')\n",
    "ax.set_xticks(x + width, list_tem_Nth)\n",
    "ax.legend(loc='upper left', ncols=4)\n",
    "ax.set_ylim(0, 0.006)\n",
    "ax.grid()\n",
    "plt.show()"
   ]
  },
  {
   "cell_type": "markdown",
   "metadata": {},
   "source": [
    "<pre>\n",
    "The SIRT reconstruction with 8 projections :              The NNFBP-Ellipses reconstruction with 8 projections:\n",
    "(threshold 153/255)                                       (threshold 153/255)\n",
    "\n",
    "\n",
    "<img src=\"data/gifs/particule_sirt8.gif\" width=\"300\"/>                               <img src=\"data/gifs/particule_nnfbp8.gif\" width=\"300\"/>\n",
    "</pre>"
   ]
  }
 ],
 "metadata": {
  "kernelspec": {
   "display_name": "abtem_env",
   "language": "python",
   "name": "python3"
  },
  "language_info": {
   "codemirror_mode": {
    "name": "ipython",
    "version": 3
   },
   "file_extension": ".py",
   "mimetype": "text/x-python",
   "name": "python",
   "nbconvert_exporter": "python",
   "pygments_lexer": "ipython3",
   "version": "3.11.9"
  }
 },
 "nbformat": 4,
 "nbformat_minor": 2
}
