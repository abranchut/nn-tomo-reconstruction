{
 "cells": [
  {
   "cell_type": "code",
   "execution_count": 1,
   "metadata": {},
   "outputs": [],
   "source": [
    "### Imports ###\n",
    "from nntomo.network import nnfbp_training\n",
    "from nntomo.nnfbp import DatasetNNFBP\n",
    "from nntomo.projection_stack import ProjectionStack\n",
    "from nntomo.utilities import get_MSE_loss\n",
    "import matplotlib.pyplot as plt\n",
    "import numpy as np\n",
    "\n",
    "%load_ext autoreload\n",
    "%autoreload 2"
   ]
  },
  {
   "cell_type": "code",
   "execution_count": 2,
   "metadata": {},
   "outputs": [],
   "source": [
    "mode = 'haadf'\n",
    "min_eps_var = 0.01"
   ]
  },
  {
   "cell_type": "markdown",
   "metadata": {},
   "source": [
    "### Training data"
   ]
  },
  {
   "cell_type": "markdown",
   "metadata": {},
   "source": [
    "For the training dataset, simulated STEM projections fo different MOF structures are taken for the inputs and the SIRT reconstruction with 144 projections is used for the real output values. The selected MOF structures are: MOF-5, PCN-61, IRMOF-76, ZIF-4 and MOF-1131."
   ]
  },
  {
   "cell_type": "code",
   "execution_count": 3,
   "metadata": {},
   "outputs": [
    {
     "name": "stdout",
     "output_type": "stream",
     "text": [
      "Saving projections...\n",
      "File saved at c:\\Users\\Admin-tomo\\Documents\\tomo-reconstruction-alix\\github_repository\\nn-tomo-reconstruction\\scripts\\data\\projection_files\\MOF-5-331-haadf144proj-padd.mrc.\n",
      " ID: MOF-5-331-haadf144proj-padd\n",
      "Saving projections...\n",
      "File saved at c:\\Users\\Admin-tomo\\Documents\\tomo-reconstruction-alix\\github_repository\\nn-tomo-reconstruction\\scripts\\data\\projection_files\\PCN-61-221-haadf144proj-padd.mrc.\n",
      " ID: PCN-61-221-haadf144proj-padd\n",
      "Saving projections...\n",
      "File saved at c:\\Users\\Admin-tomo\\Documents\\tomo-reconstruction-alix\\github_repository\\nn-tomo-reconstruction\\scripts\\data\\projection_files\\IRMOF-76-221-haadf144proj-padd.mrc.\n",
      " ID: IRMOF-76-221-haadf144proj-padd\n",
      "Saving projections...\n",
      "File saved at c:\\Users\\Admin-tomo\\Documents\\tomo-reconstruction-alix\\github_repository\\nn-tomo-reconstruction\\scripts\\data\\projection_files\\ZIF-4-551-haadf144proj-padd.mrc.\n",
      " ID: ZIF-4-551-haadf144proj-padd\n",
      "Saving projections...\n",
      "File saved at c:\\Users\\Admin-tomo\\Documents\\tomo-reconstruction-alix\\github_repository\\nn-tomo-reconstruction\\scripts\\data\\projection_files\\MOF-1131-331-haadf144proj-padd.mrc.\n",
      " ID: MOF-1131-331-haadf144proj-padd\n"
     ]
    }
   ],
   "source": [
    "training_mofs = ['MOF-5', 'PCN-61', 'IRMOF-76', 'ZIF-4', 'MOF-1131']\n",
    "cell_repetitions = [3, 2, 2, 5, 3] # Chosen so that the number of voxels along the first axis is roughly the same\n",
    "\n",
    "training_stacks = []\n",
    "\n",
    "for mof, cell_repetition in zip(training_mofs, cell_repetitions):\n",
    "    cif_file = f\"data/cif_files/{mof}.cif\"\n",
    "    projections = ProjectionStack.from_cif_file(\n",
    "        cif_file,\n",
    "        Nth=144,\n",
    "        angles_range='full',\n",
    "        mode=mode,\n",
    "        padding=True,\n",
    "        cell_repetition=(cell_repetition,cell_repetition,1),\n",
    "        #gaussian_filter=.3,\n",
    "        #dose_per_area_noise=100,\n",
    "        #nb_frozen_phonons=4,\n",
    "        )\n",
    "    projections.save()\n",
    "    training_stacks.append(projections.get_resized_proj(512))"
   ]
  },
  {
   "cell_type": "code",
   "execution_count": 4,
   "metadata": {},
   "outputs": [
    {
     "name": "stdout",
     "output_type": "stream",
     "text": [
      "Saving projections...\n",
      "File saved at c:\\Users\\Admin-tomo\\Documents\\tomo-reconstruction-alix\\github_repository\\nn-tomo-reconstruction\\scripts\\data\\projection_files\\MOF-5-331-haadf144proj-padd.mrc.\n",
      " ID: MOF-5-331-haadf144proj-padd\n",
      "SIRT reconstruction computed with 74 iterations.\n",
      "Saving volume...\n",
      "File saved at c:\\Users\\Admin-tomo\\Documents\\tomo-reconstruction-alix\\github_repository\\nn-tomo-reconstruction\\scripts\\data\\volume_files\\sirt_MOF-5-331-haadf144proj-padd-resized512.mrc.\n",
      " ID: sirt_MOF-5-331-haadf144proj-padd-resized512\n",
      "Saving projections...\n",
      "File saved at c:\\Users\\Admin-tomo\\Documents\\tomo-reconstruction-alix\\github_repository\\nn-tomo-reconstruction\\scripts\\data\\projection_files\\PCN-61-221-haadf144proj-padd.mrc.\n",
      " ID: PCN-61-221-haadf144proj-padd\n",
      "SIRT reconstruction computed with 54 iterations.\n",
      "Saving volume...\n",
      "File saved at c:\\Users\\Admin-tomo\\Documents\\tomo-reconstruction-alix\\github_repository\\nn-tomo-reconstruction\\scripts\\data\\volume_files\\sirt_PCN-61-221-haadf144proj-padd-resized512.mrc.\n",
      " ID: sirt_PCN-61-221-haadf144proj-padd-resized512\n",
      "Saving projections...\n",
      "File saved at c:\\Users\\Admin-tomo\\Documents\\tomo-reconstruction-alix\\github_repository\\nn-tomo-reconstruction\\scripts\\data\\projection_files\\IRMOF-76-221-haadf144proj-padd.mrc.\n",
      " ID: IRMOF-76-221-haadf144proj-padd\n",
      "SIRT reconstruction computed with 61 iterations.\n",
      "Saving volume...\n",
      "File saved at c:\\Users\\Admin-tomo\\Documents\\tomo-reconstruction-alix\\github_repository\\nn-tomo-reconstruction\\scripts\\data\\volume_files\\sirt_IRMOF-76-221-haadf144proj-padd-resized512.mrc.\n",
      " ID: sirt_IRMOF-76-221-haadf144proj-padd-resized512\n",
      "Saving projections...\n",
      "File saved at c:\\Users\\Admin-tomo\\Documents\\tomo-reconstruction-alix\\github_repository\\nn-tomo-reconstruction\\scripts\\data\\projection_files\\ZIF-4-551-haadf144proj-padd.mrc.\n",
      " ID: ZIF-4-551-haadf144proj-padd\n",
      "SIRT reconstruction computed with 80 iterations.\n",
      "Saving volume...\n",
      "File saved at c:\\Users\\Admin-tomo\\Documents\\tomo-reconstruction-alix\\github_repository\\nn-tomo-reconstruction\\scripts\\data\\volume_files\\sirt_ZIF-4-551-haadf144proj-padd-resized512.mrc.\n",
      " ID: sirt_ZIF-4-551-haadf144proj-padd-resized512\n",
      "Saving projections...\n",
      "File saved at c:\\Users\\Admin-tomo\\Documents\\tomo-reconstruction-alix\\github_repository\\nn-tomo-reconstruction\\scripts\\data\\projection_files\\MOF-1131-331-haadf144proj-padd.mrc.\n",
      " ID: MOF-1131-331-haadf144proj-padd\n",
      "SIRT reconstruction computed with 69 iterations.\n",
      "Saving volume...\n",
      "File saved at c:\\Users\\Admin-tomo\\Documents\\tomo-reconstruction-alix\\github_repository\\nn-tomo-reconstruction\\scripts\\data\\volume_files\\sirt_MOF-1131-331-haadf144proj-padd-resized512.mrc.\n",
      " ID: sirt_MOF-1131-331-haadf144proj-padd-resized512\n"
     ]
    }
   ],
   "source": [
    "# SIRT reference reconstructions\n",
    "\n",
    "training_reconstructions = []\n",
    "\n",
    "for mof, cell_repetition in zip(training_mofs, cell_repetitions):\n",
    "    cif_file = f\"data/cif_files/{mof}.cif\"\n",
    "    projections = ProjectionStack.from_cif_file(\n",
    "        cif_file,\n",
    "        Nth=144,\n",
    "        angles_range='full',\n",
    "        mode=mode,\n",
    "        padding=True,\n",
    "        cell_repetition=(cell_repetition,cell_repetition,1),\n",
    "        #gaussian_filter=.3,\n",
    "        #dose_per_area_noise=100,\n",
    "        #nb_frozen_phonons=4,\n",
    "        )\n",
    "    projections.save()\n",
    "    sirt_rec = projections.get_resized_proj(512).get_SIRT_reconstruction(min_eps_var = min_eps_var, print_n_iter=True)\n",
    "    sirt_rec.save()\n",
    "    training_reconstructions.append(sirt_rec)"
   ]
  },
  {
   "cell_type": "markdown",
   "metadata": {},
   "source": [
    "### Validation data"
   ]
  },
  {
   "cell_type": "markdown",
   "metadata": {},
   "source": [
    "For the validation dataset, simulated STEM projections fo different MOF structures are taken for the inputs and the SIRT reconstruction with 144 projections is used for the real output values. The selected MOF structures are: UiO-66, MIL-53 and MOF-1115."
   ]
  },
  {
   "cell_type": "code",
   "execution_count": 5,
   "metadata": {},
   "outputs": [
    {
     "name": "stdout",
     "output_type": "stream",
     "text": [
      "Saving projections...\n",
      "File saved at c:\\Users\\Admin-tomo\\Documents\\tomo-reconstruction-alix\\github_repository\\nn-tomo-reconstruction\\scripts\\data\\projection_files\\UiO-66-441-haadf144proj-padd.mrc.\n",
      " ID: UiO-66-441-haadf144proj-padd\n",
      "Saving projections...\n",
      "File saved at c:\\Users\\Admin-tomo\\Documents\\tomo-reconstruction-alix\\github_repository\\nn-tomo-reconstruction\\scripts\\data\\projection_files\\MIL-53-551-haadf144proj-padd.mrc.\n",
      " ID: MIL-53-551-haadf144proj-padd\n",
      "Saving projections...\n",
      "File saved at c:\\Users\\Admin-tomo\\Documents\\tomo-reconstruction-alix\\github_repository\\nn-tomo-reconstruction\\scripts\\data\\projection_files\\MOF-1115-221-haadf144proj-padd.mrc.\n",
      " ID: MOF-1115-221-haadf144proj-padd\n"
     ]
    }
   ],
   "source": [
    "### Structure for NN training - MOF: projections ###\n",
    "\n",
    "validation_mofs = ['UiO-66', 'MIL-53', 'MOF-1115']\n",
    "cell_repetitions = [4, 5, 2] # Chosen so that the number of voxels along the first axis is roughly the same\n",
    "\n",
    "validation_stacks = []\n",
    "\n",
    "for mof, cell_repetition in zip(validation_mofs, cell_repetitions):\n",
    "    cif_file = f\"data/cif_files/{mof}.cif\"\n",
    "    projections = ProjectionStack.from_cif_file(\n",
    "        cif_file,\n",
    "        Nth=144,\n",
    "        angles_range='full',\n",
    "        mode=mode,\n",
    "        padding=True,\n",
    "        cell_repetition=(cell_repetition,cell_repetition,1),\n",
    "        #gaussian_filter=.3,\n",
    "        #dose_per_area_noise=100,\n",
    "        #nb_frozen_phonons=4,\n",
    "        )\n",
    "    projections.save()\n",
    "    validation_stacks.append(projections.get_resized_proj(512))"
   ]
  },
  {
   "cell_type": "code",
   "execution_count": 6,
   "metadata": {},
   "outputs": [
    {
     "name": "stdout",
     "output_type": "stream",
     "text": [
      "Saving projections...\n",
      "File saved at c:\\Users\\Admin-tomo\\Documents\\tomo-reconstruction-alix\\github_repository\\nn-tomo-reconstruction\\scripts\\data\\projection_files\\UiO-66-441-haadf144proj-padd.mrc.\n",
      " ID: UiO-66-441-haadf144proj-padd\n",
      "SIRT reconstruction computed with 36 iterations.\n",
      "Saving volume...\n",
      "File saved at c:\\Users\\Admin-tomo\\Documents\\tomo-reconstruction-alix\\github_repository\\nn-tomo-reconstruction\\scripts\\data\\volume_files\\sirt_UiO-66-441-haadf144proj-padd-resized512.mrc.\n",
      " ID: sirt_UiO-66-441-haadf144proj-padd-resized512\n",
      "Saving projections...\n",
      "File saved at c:\\Users\\Admin-tomo\\Documents\\tomo-reconstruction-alix\\github_repository\\nn-tomo-reconstruction\\scripts\\data\\projection_files\\MIL-53-551-haadf144proj-padd.mrc.\n",
      " ID: MIL-53-551-haadf144proj-padd\n",
      "SIRT reconstruction computed with 57 iterations.\n",
      "Saving volume...\n",
      "File saved at c:\\Users\\Admin-tomo\\Documents\\tomo-reconstruction-alix\\github_repository\\nn-tomo-reconstruction\\scripts\\data\\volume_files\\sirt_MIL-53-551-haadf144proj-padd-resized512.mrc.\n",
      " ID: sirt_MIL-53-551-haadf144proj-padd-resized512\n",
      "Saving projections...\n",
      "File saved at c:\\Users\\Admin-tomo\\Documents\\tomo-reconstruction-alix\\github_repository\\nn-tomo-reconstruction\\scripts\\data\\projection_files\\MOF-1115-221-haadf144proj-padd.mrc.\n",
      " ID: MOF-1115-221-haadf144proj-padd\n",
      "SIRT reconstruction computed with 58 iterations.\n",
      "Saving volume...\n",
      "File saved at c:\\Users\\Admin-tomo\\Documents\\tomo-reconstruction-alix\\github_repository\\nn-tomo-reconstruction\\scripts\\data\\volume_files\\sirt_MOF-1115-221-haadf144proj-padd-resized512.mrc.\n",
      " ID: sirt_MOF-1115-221-haadf144proj-padd-resized512\n"
     ]
    }
   ],
   "source": [
    "# SIRT reconstructions\n",
    "\n",
    "validation_reconstructions = []\n",
    "\n",
    "for mof, cell_repetition in zip(validation_mofs, cell_repetitions):\n",
    "    cif_file = f\"data/cif_files/{mof}.cif\"\n",
    "    projections = ProjectionStack.from_cif_file(\n",
    "        cif_file,\n",
    "        Nth=144,\n",
    "        angles_range='full',\n",
    "        mode=mode,\n",
    "        padding=True,\n",
    "        cell_repetition=(cell_repetition,cell_repetition,1),\n",
    "        #gaussian_filter=.3,\n",
    "        #dose_per_area_noise=100,\n",
    "        #nb_frozen_phonons=4,\n",
    "        )\n",
    "    projections.save()\n",
    "    sirt_rec = projections.get_resized_proj(512).get_SIRT_reconstruction(min_eps_var = min_eps_var, print_n_iter=True)\n",
    "    sirt_rec.save()\n",
    "    validation_reconstructions.append(sirt_rec)\n"
   ]
  },
  {
   "cell_type": "markdown",
   "metadata": {},
   "source": [
    "### Test data"
   ]
  },
  {
   "cell_type": "markdown",
   "metadata": {},
   "source": [
    "We test the reconstruction algorithms on UiO-67."
   ]
  },
  {
   "cell_type": "code",
   "execution_count": 7,
   "metadata": {},
   "outputs": [
    {
     "name": "stdout",
     "output_type": "stream",
     "text": [
      "Saving projections...\n",
      "File saved at c:\\Users\\Admin-tomo\\Documents\\tomo-reconstruction-alix\\github_repository\\nn-tomo-reconstruction\\scripts\\data\\projection_files\\UiO-67-331-haadf144proj-padd.mrc.\n",
      " ID: UiO-67-331-haadf144proj-padd\n"
     ]
    }
   ],
   "source": [
    "# Stack to reconstruct\n",
    "uio67_stack = ProjectionStack.from_cif_file(\n",
    "    \"data/cif_files/UiO-67.cif\",\n",
    "    Nth=144,\n",
    "    angles_range='full',\n",
    "    mode = mode,\n",
    "    padding=True,\n",
    "    cell_repetition= (3,3,1),\n",
    "    #gaussian_filter=.3,\n",
    "    #dose_per_area_noise=100,\n",
    "    # #nb_frozen_phonons = 4,\n",
    "    )\n",
    "uio67_stack.save()\n",
    "uio67_stack = uio67_stack.get_resized_proj(512)"
   ]
  },
  {
   "cell_type": "code",
   "execution_count": 8,
   "metadata": {},
   "outputs": [
    {
     "name": "stdout",
     "output_type": "stream",
     "text": [
      "Saving projections...\n",
      "File saved at c:\\Users\\Admin-tomo\\Documents\\tomo-reconstruction-alix\\github_repository\\nn-tomo-reconstruction\\scripts\\data\\projection_files\\UiO-67-331-haadf144proj-padd.mrc.\n",
      " ID: UiO-67-331-haadf144proj-padd\n",
      "SIRT reconstruction computed with 62 iterations.\n",
      "Saving volume...\n",
      "File saved at c:\\Users\\Admin-tomo\\Documents\\tomo-reconstruction-alix\\github_repository\\nn-tomo-reconstruction\\scripts\\data\\volume_files\\sirt_UiO-67-331-haadf144proj-padd-resized512.mrc.\n",
      " ID: sirt_UiO-67-331-haadf144proj-padd-resized512\n"
     ]
    }
   ],
   "source": [
    "# Reference reconstruction (144 projs)\n",
    "uio67_perfect_stack = ProjectionStack.from_cif_file(\n",
    "    \"data/cif_files/UiO-67.cif\",\n",
    "    Nth=144,\n",
    "    angles_range='full',\n",
    "    mode = mode,\n",
    "    padding=True,\n",
    "    cell_repetition= (3,3,1),\n",
    "    #gaussian_filter=.3,\n",
    "    #dose_per_area_noise=100,\n",
    "    # #nb_frozen_phonons = 4,\n",
    "    )\n",
    "uio67_perfect_stack.save()\n",
    "sirt144_reconstruction = uio67_perfect_stack.get_resized_proj(512).get_SIRT_reconstruction(min_eps_var = min_eps_var, print_n_iter=True)\n",
    "sirt144_reconstruction.save()"
   ]
  },
  {
   "cell_type": "markdown",
   "metadata": {},
   "source": [
    "### Networks training"
   ]
  },
  {
   "cell_type": "code",
   "execution_count": 9,
   "metadata": {},
   "outputs": [],
   "source": [
    "subsets = [144,72,48,36,24,18,16,12,9,8,6,4,1]\n",
    "tem_subsets = [113, 57, None, 29, None, 15, None, None, 8, None, None, None, None]"
   ]
  },
  {
   "cell_type": "code",
   "execution_count": 10,
   "metadata": {},
   "outputs": [
    {
     "name": "stdout",
     "output_type": "stream",
     "text": [
      "Epoch 101 (n=6) | Best avg MSELoss(): 0.000169 | End of training                                 \n",
      "Epoch 42 (n=25) | Best avg MSELoss(): 0.000457 | End of training                                 \n",
      "Epoch 101 (n=23) | Best avg MSELoss(): 0.000172 | End of training                                 \n",
      "Epoch 51 (n=25) | Best avg MSELoss(): 0.000487 | End of training                                 \n",
      "Epoch 41 (n=25) | Best avg MSELoss(): 0.000491 | End of training                                 \n",
      "Epoch 47 (n=25) | Best avg MSELoss(): 0.000643 | End of training                                 \n",
      "Epoch 46 (n=25) | Best avg MSELoss(): 0.000265 | End of training                                 \n",
      "Epoch 99 (n=25) | Best avg MSELoss(): 0.000303 | End of training                                 \n",
      "Epoch 39 (n=25) | Best avg MSELoss(): 0.000556 | End of training                                 \n",
      "Epoch 88 (n=25) | Best avg MSELoss(): 0.000453 | End of training                                 \n",
      "Epoch 63 (n=25) | Best avg MSELoss(): 0.000541 | End of training                                 \n",
      "Epoch 101 (n=1) | Best avg MSELoss(): 0.000332 | End of training                                 \n",
      "Epoch 80 (n=25) | Best avg MSELoss(): 0.000428 | End of training                                 \n"
     ]
    }
   ],
   "source": [
    "# Training of NNFBP networks\n",
    "\n",
    "trained_networks_nnfbp = []\n",
    "\n",
    "for subset in subsets:\n",
    "    # subsets\n",
    "    training_stacks_sub = [stack.get_proj_subset(subset) for stack in training_stacks]\n",
    "    validation_stack_sub = [stack.get_proj_subset(subset) for stack in validation_stacks]\n",
    "\n",
    "    # training\n",
    "    training_dataset = DatasetNNFBP(training_stacks_sub, training_reconstructions)\n",
    "    validation_dataset = DatasetNNFBP(validation_stack_sub, validation_reconstructions)\n",
    "\n",
    "    network = nnfbp_training(training_dataset, validation_dataset, 8, max_epoch=100)\n",
    "    trained_networks_nnfbp.append(network)"
   ]
  },
  {
   "cell_type": "code",
   "execution_count": 11,
   "metadata": {},
   "outputs": [
    {
     "name": "stdout",
     "output_type": "stream",
     "text": [
      "Saving volume...\n",
      "File saved at c:\\Users\\Admin-tomo\\Documents\\tomo-reconstruction-alix\\github_repository\\nn-tomo-reconstruction\\scripts\\data\\volume_files\\nnfbp[MOF-5-331-haadf144proj-padd-resized512-sub144][sirt_MOF-5-331-haadf144proj-padd-resized512]bin8h_UiO-67-331-haadf144proj-padd-resized512-sub144.mrc.\n",
      " ID: nnfbp[MOF-5-331-haadf144proj-padd-resized512-sub144][sirt_MOF-5-331-haadf144proj-padd-resized512]bin8h_UiO-67-331-haadf144proj-padd-resized512-sub144\n",
      "Saving volume...\n",
      "File saved at c:\\Users\\Admin-tomo\\Documents\\tomo-reconstruction-alix\\github_repository\\nn-tomo-reconstruction\\scripts\\data\\volume_files\\nnfbp[MOF-5-331-haadf144proj-padd-resized512-sub144][sirt_MOF-5-331-haadf144proj-padd-resized512]bin8h_UiO-67-331-haadf144proj-padd-resized512-subtem113-sub113.mrc.\n",
      " ID: nnfbp[MOF-5-331-haadf144proj-padd-resized512-sub144][sirt_MOF-5-331-haadf144proj-padd-resized512]bin8h_UiO-67-331-haadf144proj-padd-resized512-subtem113-sub113\n",
      "Saving volume...\n",
      "File saved at c:\\Users\\Admin-tomo\\Documents\\tomo-reconstruction-alix\\github_repository\\nn-tomo-reconstruction\\scripts\\data\\volume_files\\nnfbp[MOF-5-331-haadf144proj-padd-resized512-sub72][sirt_MOF-5-331-haadf144proj-padd-resized512]bin8h_UiO-67-331-haadf144proj-padd-resized512-sub72.mrc.\n",
      " ID: nnfbp[MOF-5-331-haadf144proj-padd-resized512-sub72][sirt_MOF-5-331-haadf144proj-padd-resized512]bin8h_UiO-67-331-haadf144proj-padd-resized512-sub72\n",
      "Saving volume...\n",
      "File saved at c:\\Users\\Admin-tomo\\Documents\\tomo-reconstruction-alix\\github_repository\\nn-tomo-reconstruction\\scripts\\data\\volume_files\\nnfbp[MOF-5-331-haadf144proj-padd-resized512-sub72][sirt_MOF-5-331-haadf144proj-padd-resized512]bin8h_UiO-67-331-haadf144proj-padd-resized512-subtem113-sub57.mrc.\n",
      " ID: nnfbp[MOF-5-331-haadf144proj-padd-resized512-sub72][sirt_MOF-5-331-haadf144proj-padd-resized512]bin8h_UiO-67-331-haadf144proj-padd-resized512-subtem113-sub57\n",
      "Saving volume...\n",
      "File saved at c:\\Users\\Admin-tomo\\Documents\\tomo-reconstruction-alix\\github_repository\\nn-tomo-reconstruction\\scripts\\data\\volume_files\\nnfbp[MOF-5-331-haadf144proj-padd-resized512-sub48][sirt_MOF-5-331-haadf144proj-padd-resized512]bin8h_UiO-67-331-haadf144proj-padd-resized512-sub48.mrc.\n",
      " ID: nnfbp[MOF-5-331-haadf144proj-padd-resized512-sub48][sirt_MOF-5-331-haadf144proj-padd-resized512]bin8h_UiO-67-331-haadf144proj-padd-resized512-sub48\n",
      "Saving volume...\n",
      "File saved at c:\\Users\\Admin-tomo\\Documents\\tomo-reconstruction-alix\\github_repository\\nn-tomo-reconstruction\\scripts\\data\\volume_files\\nnfbp[MOF-5-331-haadf144proj-padd-resized512-sub36][sirt_MOF-5-331-haadf144proj-padd-resized512]bin8h_UiO-67-331-haadf144proj-padd-resized512-sub36.mrc.\n",
      " ID: nnfbp[MOF-5-331-haadf144proj-padd-resized512-sub36][sirt_MOF-5-331-haadf144proj-padd-resized512]bin8h_UiO-67-331-haadf144proj-padd-resized512-sub36\n",
      "Saving volume...\n",
      "File saved at c:\\Users\\Admin-tomo\\Documents\\tomo-reconstruction-alix\\github_repository\\nn-tomo-reconstruction\\scripts\\data\\volume_files\\nnfbp[MOF-5-331-haadf144proj-padd-resized512-sub36][sirt_MOF-5-331-haadf144proj-padd-resized512]bin8h_UiO-67-331-haadf144proj-padd-resized512-subtem113-sub29.mrc.\n",
      " ID: nnfbp[MOF-5-331-haadf144proj-padd-resized512-sub36][sirt_MOF-5-331-haadf144proj-padd-resized512]bin8h_UiO-67-331-haadf144proj-padd-resized512-subtem113-sub29\n",
      "Saving volume...\n",
      "File saved at c:\\Users\\Admin-tomo\\Documents\\tomo-reconstruction-alix\\github_repository\\nn-tomo-reconstruction\\scripts\\data\\volume_files\\nnfbp[MOF-5-331-haadf144proj-padd-resized512-sub24][sirt_MOF-5-331-haadf144proj-padd-resized512]bin8h_UiO-67-331-haadf144proj-padd-resized512-sub24.mrc.\n",
      " ID: nnfbp[MOF-5-331-haadf144proj-padd-resized512-sub24][sirt_MOF-5-331-haadf144proj-padd-resized512]bin8h_UiO-67-331-haadf144proj-padd-resized512-sub24\n",
      "Saving volume...\n",
      "File saved at c:\\Users\\Admin-tomo\\Documents\\tomo-reconstruction-alix\\github_repository\\nn-tomo-reconstruction\\scripts\\data\\volume_files\\nnfbp[MOF-5-331-haadf144proj-padd-resized512-sub18][sirt_MOF-5-331-haadf144proj-padd-resized512]bin8h_UiO-67-331-haadf144proj-padd-resized512-sub18.mrc.\n",
      " ID: nnfbp[MOF-5-331-haadf144proj-padd-resized512-sub18][sirt_MOF-5-331-haadf144proj-padd-resized512]bin8h_UiO-67-331-haadf144proj-padd-resized512-sub18\n",
      "Saving volume...\n",
      "File saved at c:\\Users\\Admin-tomo\\Documents\\tomo-reconstruction-alix\\github_repository\\nn-tomo-reconstruction\\scripts\\data\\volume_files\\nnfbp[MOF-5-331-haadf144proj-padd-resized512-sub18][sirt_MOF-5-331-haadf144proj-padd-resized512]bin8h_UiO-67-331-haadf144proj-padd-resized512-subtem113-sub15.mrc.\n",
      " ID: nnfbp[MOF-5-331-haadf144proj-padd-resized512-sub18][sirt_MOF-5-331-haadf144proj-padd-resized512]bin8h_UiO-67-331-haadf144proj-padd-resized512-subtem113-sub15\n",
      "Saving volume...\n",
      "File saved at c:\\Users\\Admin-tomo\\Documents\\tomo-reconstruction-alix\\github_repository\\nn-tomo-reconstruction\\scripts\\data\\volume_files\\nnfbp[MOF-5-331-haadf144proj-padd-resized512-sub16][sirt_MOF-5-331-haadf144proj-padd-resized512]bin8h_UiO-67-331-haadf144proj-padd-resized512-sub16.mrc.\n",
      " ID: nnfbp[MOF-5-331-haadf144proj-padd-resized512-sub16][sirt_MOF-5-331-haadf144proj-padd-resized512]bin8h_UiO-67-331-haadf144proj-padd-resized512-sub16\n",
      "Saving volume...\n",
      "File saved at c:\\Users\\Admin-tomo\\Documents\\tomo-reconstruction-alix\\github_repository\\nn-tomo-reconstruction\\scripts\\data\\volume_files\\nnfbp[MOF-5-331-haadf144proj-padd-resized512-sub12][sirt_MOF-5-331-haadf144proj-padd-resized512]bin8h_UiO-67-331-haadf144proj-padd-resized512-sub12.mrc.\n",
      " ID: nnfbp[MOF-5-331-haadf144proj-padd-resized512-sub12][sirt_MOF-5-331-haadf144proj-padd-resized512]bin8h_UiO-67-331-haadf144proj-padd-resized512-sub12\n",
      "Saving volume...\n",
      "File saved at c:\\Users\\Admin-tomo\\Documents\\tomo-reconstruction-alix\\github_repository\\nn-tomo-reconstruction\\scripts\\data\\volume_files\\nnfbp[MOF-5-331-haadf144proj-padd-resized512-sub9][sirt_MOF-5-331-haadf144proj-padd-resized512]bin8h_UiO-67-331-haadf144proj-padd-resized512-sub9.mrc.\n",
      " ID: nnfbp[MOF-5-331-haadf144proj-padd-resized512-sub9][sirt_MOF-5-331-haadf144proj-padd-resized512]bin8h_UiO-67-331-haadf144proj-padd-resized512-sub9\n",
      "Saving volume...\n",
      "File saved at c:\\Users\\Admin-tomo\\Documents\\tomo-reconstruction-alix\\github_repository\\nn-tomo-reconstruction\\scripts\\data\\volume_files\\nnfbp[MOF-5-331-haadf144proj-padd-resized512-sub9][sirt_MOF-5-331-haadf144proj-padd-resized512]bin8h_UiO-67-331-haadf144proj-padd-resized512-subtem113-sub8.mrc.\n",
      " ID: nnfbp[MOF-5-331-haadf144proj-padd-resized512-sub9][sirt_MOF-5-331-haadf144proj-padd-resized512]bin8h_UiO-67-331-haadf144proj-padd-resized512-subtem113-sub8\n",
      "Saving volume...\n",
      "File saved at c:\\Users\\Admin-tomo\\Documents\\tomo-reconstruction-alix\\github_repository\\nn-tomo-reconstruction\\scripts\\data\\volume_files\\nnfbp[MOF-5-331-haadf144proj-padd-resized512-sub8][sirt_MOF-5-331-haadf144proj-padd-resized512]bin8h_UiO-67-331-haadf144proj-padd-resized512-sub8.mrc.\n",
      " ID: nnfbp[MOF-5-331-haadf144proj-padd-resized512-sub8][sirt_MOF-5-331-haadf144proj-padd-resized512]bin8h_UiO-67-331-haadf144proj-padd-resized512-sub8\n",
      "Saving volume...\n",
      "File saved at c:\\Users\\Admin-tomo\\Documents\\tomo-reconstruction-alix\\github_repository\\nn-tomo-reconstruction\\scripts\\data\\volume_files\\nnfbp[MOF-5-331-haadf144proj-padd-resized512-sub6][sirt_MOF-5-331-haadf144proj-padd-resized512]bin8h_UiO-67-331-haadf144proj-padd-resized512-sub6.mrc.\n",
      " ID: nnfbp[MOF-5-331-haadf144proj-padd-resized512-sub6][sirt_MOF-5-331-haadf144proj-padd-resized512]bin8h_UiO-67-331-haadf144proj-padd-resized512-sub6\n",
      "Saving volume...\n",
      "File saved at c:\\Users\\Admin-tomo\\Documents\\tomo-reconstruction-alix\\github_repository\\nn-tomo-reconstruction\\scripts\\data\\volume_files\\nnfbp[MOF-5-331-haadf144proj-padd-resized512-sub4][sirt_MOF-5-331-haadf144proj-padd-resized512]bin8h_UiO-67-331-haadf144proj-padd-resized512-sub4.mrc.\n",
      " ID: nnfbp[MOF-5-331-haadf144proj-padd-resized512-sub4][sirt_MOF-5-331-haadf144proj-padd-resized512]bin8h_UiO-67-331-haadf144proj-padd-resized512-sub4\n",
      "Saving volume...\n",
      "File saved at c:\\Users\\Admin-tomo\\Documents\\tomo-reconstruction-alix\\github_repository\\nn-tomo-reconstruction\\scripts\\data\\volume_files\\nnfbp[MOF-5-331-haadf144proj-padd-resized512-sub1][sirt_MOF-5-331-haadf144proj-padd-resized512]bin8h_UiO-67-331-haadf144proj-padd-resized512-sub1.mrc.\n",
      " ID: nnfbp[MOF-5-331-haadf144proj-padd-resized512-sub1][sirt_MOF-5-331-haadf144proj-padd-resized512]bin8h_UiO-67-331-haadf144proj-padd-resized512-sub1\n"
     ]
    }
   ],
   "source": [
    "# MSE of NNFBP reconstructions\n",
    "\n",
    "mse_nnfbp = []\n",
    "mse_nnfbp_tem = []\n",
    "\n",
    "for subset, tem_subset, network in zip(subsets, tem_subsets, trained_networks_nnfbp):\n",
    "\n",
    "    uio67_stack_sub = uio67_stack.get_proj_subset(subset)\n",
    "    nn_rec = uio67_stack_sub.get_NNFBP_reconstruction(network, show_progressbar=False)\n",
    "    nn_rec.save()\n",
    "    mse_nnfbp.append(get_MSE_loss(sirt144_reconstruction, nn_rec, only_inscribed_disc=True))\n",
    "\n",
    "    if tem_subset is not None:\n",
    "        uio67_stack_sub = uio67_stack.convert_full_tem().get_proj_subset(tem_subset)\n",
    "        nn_rec = uio67_stack_sub.get_NNFBP_reconstruction(network, show_progressbar=False)\n",
    "        nn_rec.save()\n",
    "        mse_nnfbp_tem.append(get_MSE_loss(sirt144_reconstruction, nn_rec, only_inscribed_disc=True))"
   ]
  },
  {
   "cell_type": "code",
   "execution_count": 12,
   "metadata": {},
   "outputs": [
    {
     "name": "stdout",
     "output_type": "stream",
     "text": [
      "SIRT reconstruction computed with 62 iterations.\n",
      "Saving volume...\n",
      "File saved at c:\\Users\\Admin-tomo\\Documents\\tomo-reconstruction-alix\\github_repository\\nn-tomo-reconstruction\\scripts\\data\\volume_files\\sirt_UiO-67-331-haadf144proj-padd-resized512-sub144.mrc.\n",
      " ID: sirt_UiO-67-331-haadf144proj-padd-resized512-sub144\n",
      "0.0\n",
      "SIRT reconstruction computed with 62 iterations.\n",
      "Saving volume...\n",
      "File saved at c:\\Users\\Admin-tomo\\Documents\\tomo-reconstruction-alix\\github_repository\\nn-tomo-reconstruction\\scripts\\data\\volume_files\\sirt_UiO-67-331-haadf144proj-padd-resized512-sub72.mrc.\n",
      " ID: sirt_UiO-67-331-haadf144proj-padd-resized512-sub72\n",
      "1.12185477921245e-12\n",
      "SIRT reconstruction computed with 65 iterations.\n",
      "Saving volume...\n",
      "File saved at c:\\Users\\Admin-tomo\\Documents\\tomo-reconstruction-alix\\github_repository\\nn-tomo-reconstruction\\scripts\\data\\volume_files\\sirt_UiO-67-331-haadf144proj-padd-resized512-sub48.mrc.\n",
      " ID: sirt_UiO-67-331-haadf144proj-padd-resized512-sub48\n",
      "2.26385642003446e-12\n",
      "SIRT reconstruction computed with 65 iterations.\n",
      "Saving volume...\n",
      "File saved at c:\\Users\\Admin-tomo\\Documents\\tomo-reconstruction-alix\\github_repository\\nn-tomo-reconstruction\\scripts\\data\\volume_files\\sirt_UiO-67-331-haadf144proj-padd-resized512-sub36.mrc.\n",
      " ID: sirt_UiO-67-331-haadf144proj-padd-resized512-sub36\n",
      "3.4900580689334326e-12\n",
      "SIRT reconstruction computed with 65 iterations.\n",
      "Saving volume...\n",
      "File saved at c:\\Users\\Admin-tomo\\Documents\\tomo-reconstruction-alix\\github_repository\\nn-tomo-reconstruction\\scripts\\data\\volume_files\\sirt_UiO-67-331-haadf144proj-padd-resized512-sub24.mrc.\n",
      " ID: sirt_UiO-67-331-haadf144proj-padd-resized512-sub24\n",
      "5.101644367372371e-12\n",
      "SIRT reconstruction computed with 57 iterations.\n",
      "Saving volume...\n",
      "File saved at c:\\Users\\Admin-tomo\\Documents\\tomo-reconstruction-alix\\github_repository\\nn-tomo-reconstruction\\scripts\\data\\volume_files\\sirt_UiO-67-331-haadf144proj-padd-resized512-sub18.mrc.\n",
      " ID: sirt_UiO-67-331-haadf144proj-padd-resized512-sub18\n",
      "7.6327364567641e-12\n",
      "SIRT reconstruction computed with 68 iterations.\n",
      "Saving volume...\n",
      "File saved at c:\\Users\\Admin-tomo\\Documents\\tomo-reconstruction-alix\\github_repository\\nn-tomo-reconstruction\\scripts\\data\\volume_files\\sirt_UiO-67-331-haadf144proj-padd-resized512-sub16.mrc.\n",
      " ID: sirt_UiO-67-331-haadf144proj-padd-resized512-sub16\n",
      "7.346129780871902e-12\n",
      "SIRT reconstruction computed with 66 iterations.\n",
      "Saving volume...\n",
      "File saved at c:\\Users\\Admin-tomo\\Documents\\tomo-reconstruction-alix\\github_repository\\nn-tomo-reconstruction\\scripts\\data\\volume_files\\sirt_UiO-67-331-haadf144proj-padd-resized512-sub12.mrc.\n",
      " ID: sirt_UiO-67-331-haadf144proj-padd-resized512-sub12\n",
      "8.982676581725801e-12\n",
      "SIRT reconstruction computed with 60 iterations.\n",
      "Saving volume...\n",
      "File saved at c:\\Users\\Admin-tomo\\Documents\\tomo-reconstruction-alix\\github_repository\\nn-tomo-reconstruction\\scripts\\data\\volume_files\\sirt_UiO-67-331-haadf144proj-padd-resized512-sub9.mrc.\n",
      " ID: sirt_UiO-67-331-haadf144proj-padd-resized512-sub9\n",
      "1.2053866585426398e-11\n",
      "SIRT reconstruction computed with 64 iterations.\n",
      "Saving volume...\n",
      "File saved at c:\\Users\\Admin-tomo\\Documents\\tomo-reconstruction-alix\\github_repository\\nn-tomo-reconstruction\\scripts\\data\\volume_files\\sirt_UiO-67-331-haadf144proj-padd-resized512-sub8.mrc.\n",
      " ID: sirt_UiO-67-331-haadf144proj-padd-resized512-sub8\n",
      "1.1939705300834103e-11\n",
      "SIRT reconstruction computed with 63 iterations.\n",
      "Saving volume...\n",
      "File saved at c:\\Users\\Admin-tomo\\Documents\\tomo-reconstruction-alix\\github_repository\\nn-tomo-reconstruction\\scripts\\data\\volume_files\\sirt_UiO-67-331-haadf144proj-padd-resized512-sub6.mrc.\n",
      " ID: sirt_UiO-67-331-haadf144proj-padd-resized512-sub6\n",
      "1.5014878229635542e-11\n",
      "SIRT reconstruction computed with 66 iterations.\n",
      "Saving volume...\n",
      "File saved at c:\\Users\\Admin-tomo\\Documents\\tomo-reconstruction-alix\\github_repository\\nn-tomo-reconstruction\\scripts\\data\\volume_files\\sirt_UiO-67-331-haadf144proj-padd-resized512-sub4.mrc.\n",
      " ID: sirt_UiO-67-331-haadf144proj-padd-resized512-sub4\n",
      "1.4434778025651518e-11\n",
      "SIRT reconstruction computed with 2 iterations.\n",
      "Saving volume...\n",
      "File saved at c:\\Users\\Admin-tomo\\Documents\\tomo-reconstruction-alix\\github_repository\\nn-tomo-reconstruction\\scripts\\data\\volume_files\\sirt_UiO-67-331-haadf144proj-padd-resized512-sub1.mrc.\n",
      " ID: sirt_UiO-67-331-haadf144proj-padd-resized512-sub1\n",
      "2.1926222990020783e-11\n"
     ]
    }
   ],
   "source": [
    "# MSE of SIRT\n",
    "\n",
    "mse_sirt = []\n",
    "for subset in subsets:\n",
    "    uio67_stack_sub = uio67_stack.get_proj_subset(subset)\n",
    "\n",
    "    sirt_rec = uio67_stack_sub.get_SIRT_reconstruction(min_eps_var = min_eps_var, print_n_iter=True)\n",
    "    sirt_rec.save()\n",
    "    mse_sirt.append(get_MSE_loss(sirt144_reconstruction, sirt_rec, only_inscribed_disc=True))\n",
    "    print(mse_sirt[-1])"
   ]
  },
  {
   "cell_type": "code",
   "execution_count": 22,
   "metadata": {},
   "outputs": [
    {
     "name": "stdout",
     "output_type": "stream",
     "text": [
      "Saving volume...\n",
      "File saved at c:\\Users\\Admin-tomo\\Documents\\tomo-reconstruction-alix\\github_repository\\nn-tomo-reconstruction\\scripts\\data\\volume_files\\sirt_UiO-67-331-haadf144proj-padd-resized512-subtem113-sub113.mrc.\n",
      " ID: sirt_UiO-67-331-haadf144proj-padd-resized512-subtem113-sub113\n",
      "SIRT reconstruction computed with 73 iterations.\n",
      "Saving volume...\n",
      "File saved at c:\\Users\\Admin-tomo\\Documents\\tomo-reconstruction-alix\\github_repository\\nn-tomo-reconstruction\\scripts\\data\\volume_files\\sirt_UiO-67-331-haadf144proj-padd-resized512-subtem113-sub57.mrc.\n",
      " ID: sirt_UiO-67-331-haadf144proj-padd-resized512-subtem113-sub57\n",
      "SIRT reconstruction computed with 71 iterations.\n",
      "Saving volume...\n",
      "File saved at c:\\Users\\Admin-tomo\\Documents\\tomo-reconstruction-alix\\github_repository\\nn-tomo-reconstruction\\scripts\\data\\volume_files\\sirt_UiO-67-331-haadf144proj-padd-resized512-subtem113-sub29.mrc.\n",
      " ID: sirt_UiO-67-331-haadf144proj-padd-resized512-subtem113-sub29\n",
      "SIRT reconstruction computed with 59 iterations.\n",
      "Saving volume...\n",
      "File saved at c:\\Users\\Admin-tomo\\Documents\\tomo-reconstruction-alix\\github_repository\\nn-tomo-reconstruction\\scripts\\data\\volume_files\\sirt_UiO-67-331-haadf144proj-padd-resized512-subtem113-sub15.mrc.\n",
      " ID: sirt_UiO-67-331-haadf144proj-padd-resized512-subtem113-sub15\n",
      "SIRT reconstruction computed with 60 iterations.\n",
      "Saving volume...\n",
      "File saved at c:\\Users\\Admin-tomo\\Documents\\tomo-reconstruction-alix\\github_repository\\nn-tomo-reconstruction\\scripts\\data\\volume_files\\sirt_UiO-67-331-haadf144proj-padd-resized512-subtem113-sub8.mrc.\n",
      " ID: sirt_UiO-67-331-haadf144proj-padd-resized512-subtem113-sub8\n"
     ]
    }
   ],
   "source": [
    "# MSE of SIRT\n",
    "\n",
    "mse_sirt_tem = []\n",
    "\n",
    "for tem_subset in [tem_subset for tem_subset in tem_subsets if tem_subset is not None]:\n",
    "    uio67_stack_sub = uio67_stack.convert_full_tem().get_proj_subset(tem_subset)\n",
    "\n",
    "    sirt_rec = uio67_stack_sub.get_SIRT_reconstruction(min_eps_var = min_eps_var, print_n_iter=True)\n",
    "    sirt_rec.save()\n",
    "    mse_sirt_tem.append(get_MSE_loss(sirt144_reconstruction, sirt_rec, only_inscribed_disc=True))"
   ]
  },
  {
   "cell_type": "markdown",
   "metadata": {},
   "source": [
    "### Plots"
   ]
  },
  {
   "cell_type": "code",
   "execution_count": 21,
   "metadata": {},
   "outputs": [
    {
     "name": "stdout",
     "output_type": "stream",
     "text": [
      "[0.0, 1.12185477921245e-12, 2.26385642003446e-12, 3.4900580689334326e-12, 5.101644367372371e-12, 7.6327364567641e-12, 7.346129780871902e-12, 8.982676581725801e-12, 1.2053866585426398e-11, 1.1939705300834103e-11, 1.5014878229635542e-11, 1.4434778025651518e-11, 2.1926222990020783e-11]\n"
     ]
    },
    {
     "data": {
      "image/png": "[encoded data removed]",
      "text/plain": [
       "<Figure size 800x600 with 1 Axes>"
      ]
     },
     "metadata": {},
     "output_type": "display_data"
    }
   ],
   "source": [
    "# MSE SIRT against MSE NNFBP\n",
    "print(mse_sirt)\n",
    "\n",
    "mse_lists = {\n",
    "    'SIRT reconstruction': mse_sirt,\n",
    "    'NNFBP reconstruction': mse_nnfbp,\n",
    "#    'MSE MSDNET': mse_msdnet,\n",
    "}\n",
    "\n",
    "x = np.arange(len(mse_sirt))  # the label locations\n",
    "width = 0.2  # the width of the bars\n",
    "multiplier = 0\n",
    "\n",
    "fig, ax = plt.subplots(layout='constrained', figsize = (8,6))\n",
    "\n",
    "for attribute, measurement in mse_lists.items():\n",
    "    offset = width * multiplier\n",
    "    rects = ax.bar(x + offset, measurement, width, label=attribute)\n",
    "    multiplier += 1\n",
    "\n",
    "# Add some text for labels, title and custom x-axis tick labels, etc.\n",
    "ax.set_xlabel(\"Number of projections in the subset\")\n",
    "ax.set_ylabel('MSE compared to reference SIRT (144 projections)')\n",
    "ax.set_title('Performance comparison between SIRT and NNFBP for different number of projections\\n(-90° to 90° range)')\n",
    "ax.set_xticks(x + width, subsets)\n",
    "ax.legend(loc='upper left', ncols=3)\n",
    "ax.set_ylim(0, 0.3e-10)\n",
    "ax.grid()\n",
    "plt.show()"
   ]
  },
  {
   "cell_type": "code",
   "execution_count": 24,
   "metadata": {},
   "outputs": [
    {
     "data": {
      "image/png": "[encoded data removed]",
      "text/plain": [
       "<Figure size 500x600 with 1 Axes>"
      ]
     },
     "metadata": {},
     "output_type": "display_data"
    }
   ],
   "source": [
    "# MSE SIRT against MSE NNFBP\n",
    "mse_lists = {\n",
    "    'SIRT reconstruction': mse_sirt_tem,\n",
    "    'NNFBP reconstruction': mse_nnfbp_tem,\n",
    "#    'MSE MSDNET': mse_msdnet,\n",
    "}\n",
    "\n",
    "x = np.arange(len(mse_sirt_tem))  # the label locations\n",
    "width = 0.2  # the width of the bars\n",
    "multiplier = 0\n",
    "\n",
    "fig, ax = plt.subplots(layout='constrained', figsize = (5,6))\n",
    "\n",
    "for attribute, measurement in mse_lists.items():\n",
    "    offset = width * multiplier\n",
    "    rects = ax.bar(x + offset, measurement, width, label=attribute)\n",
    "    multiplier += 1\n",
    "\n",
    "# Add some text for labels, title and custom x-axis tick labels, etc.\n",
    "ax.set_xlabel(\"Number of projections in the subset\")\n",
    "ax.set_ylabel('MSE compared to reference SIRT (144 projections)')\n",
    "ax.set_title('Performance comparison between SIRT and NNFBP for different\\nnumber of projections (-70° to 70° range)')\n",
    "ax.set_xticks(x + width, [tem_subset for tem_subset in tem_subsets if tem_subset is not None])\n",
    "ax.legend(loc='upper left', ncols=3)\n",
    "ax.set_ylim(0, 0.3e-10)\n",
    "ax.grid()\n",
    "plt.show()"
   ]
  }
 ],
 "metadata": {
  "kernelspec": {
   "display_name": "abtem_env",
   "language": "python",
   "name": "python3"
  },
  "language_info": {
   "codemirror_mode": {
    "name": "ipython",
    "version": 3
   },
   "file_extension": ".py",
   "mimetype": "text/x-python",
   "name": "python",
   "nbconvert_exporter": "python",
   "pygments_lexer": "ipython3",
   "version": "3.11.9"
  }
 },
 "nbformat": 4,
 "nbformat_minor": 2
}
