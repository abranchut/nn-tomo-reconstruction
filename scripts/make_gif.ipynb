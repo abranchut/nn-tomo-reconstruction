{
 "cells": [
  {
   "cell_type": "markdown",
   "metadata": {},
   "source": [
    "A script to create gifs from tif files. These files are created using the imod movie/montage feature. Be sure to open imod in the folder data/movie_files by using  the following command in the cygwin terminal beforehand:\n",
    "> \\$ *cd C:/Users/Admin-tomo/Documents/tomo-reconstruction-alix/github_repository/nn-tomo-reconstruction/scripts/data/movie_files* <br>\n",
    "> \\$ *3dmod* <br>\n",
    "\n",
    "When using the movie/montage feature in the isosurface window, the files are saved when **\"write files\"** is checked, with names *modv0000.tif*, *modv0001.tif*, ...\n",
    "In the ZaP window, they are automatically created after checking **\"TIFF\"**, with names *zap000.tif*, *zap001.tif*, ...\n",
    "\n",
    "All the files in the folder data/movie_files are used to create the gif, so be sure that it doesn't contain other unwanted files."
   ]
  },
  {
   "cell_type": "code",
   "execution_count": 1,
   "metadata": {},
   "outputs": [
    {
     "ename": "FileNotFoundError",
     "evalue": "[WinError 3] The system cannot find the path specified: 'data/movie_files'",
     "output_type": "error",
     "traceback": [
      "\u001b[1;31m---------------------------------------------------------------------------\u001b[0m",
      "\u001b[1;31mFileNotFoundError\u001b[0m                         Traceback (most recent call last)",
      "Cell \u001b[1;32mIn[1], line 11\u001b[0m\n\u001b[0;32m      8\u001b[0m \u001b[38;5;28;01mif\u001b[39;00m os\u001b[38;5;241m.\u001b[39mpath\u001b[38;5;241m.\u001b[39misfile(gif_file):\n\u001b[0;32m      9\u001b[0m     \u001b[38;5;28;01mraise\u001b[39;00m \u001b[38;5;167;01mValueError\u001b[39;00m(\u001b[38;5;124m\"\u001b[39m\u001b[38;5;124mThis file already exists.\u001b[39m\u001b[38;5;124m\"\u001b[39m)\n\u001b[1;32m---> 11\u001b[0m filenames \u001b[38;5;241m=\u001b[39m \u001b[43mos\u001b[49m\u001b[38;5;241;43m.\u001b[39;49m\u001b[43mlistdir\u001b[49m\u001b[43m(\u001b[49m\u001b[38;5;124;43m\"\u001b[39;49m\u001b[38;5;124;43mdata/movie_files\u001b[39;49m\u001b[38;5;124;43m\"\u001b[39;49m\u001b[43m)\u001b[49m\n\u001b[0;32m     12\u001b[0m images \u001b[38;5;241m=\u001b[39m []\n\u001b[0;32m     13\u001b[0m \u001b[38;5;28;01mfor\u001b[39;00m filename \u001b[38;5;129;01min\u001b[39;00m filenames:\n",
      "\u001b[1;31mFileNotFoundError\u001b[0m: [WinError 3] The system cannot find the path specified: 'data/movie_files'"
     ]
    }
   ],
   "source": [
    "import os\n",
    "import imageio\n",
    "\n",
    "os.makedirs('data/gifs', exist_ok=True)\n",
    "\n",
    "gif_file = 'data/gifs/srtio320204_projs.gif' # The localisation of the resuling gif file\n",
    "fps = 5 # The number of frames per second in the resulting gif file\n",
    "delete_files = True # Whether or not to delete files after the creation of the gif\n",
    "\n",
    "if os.path.isfile(gif_file):\n",
    "    raise ValueError(\"This file already exists.\")\n",
    "\n",
    "filenames = os.listdir(\"movie_files\")\n",
    "images = []\n",
    "for filename in filenames:\n",
    "    images.append(imageio.v2.imread(\"movie_files/\" + filename))\n",
    "    if delete_files:\n",
    "        os.remove(\"movie_files/\" + filename)\n",
    "imageio.mimsave(gif_file, images, fps=fps, loop=0)"
   ]
  }
 ],
 "metadata": {
  "kernelspec": {
   "display_name": "abtem_env",
   "language": "python",
   "name": "python3"
  },
  "language_info": {
   "codemirror_mode": {
    "name": "ipython",
    "version": 3
   },
   "file_extension": ".py",
   "mimetype": "text/x-python",
   "name": "python",
   "nbconvert_exporter": "python",
   "pygments_lexer": "ipython3",
   "version": "3.11.9"
  }
 },
 "nbformat": 4,
 "nbformat_minor": 2
}
