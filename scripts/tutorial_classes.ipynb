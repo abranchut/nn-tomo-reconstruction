{
 "cells": [
  {
   "cell_type": "markdown",
   "metadata": {},
   "source": [
    "### The essentials"
   ]
  },
  {
   "cell_type": "markdown",
   "metadata": {},
   "source": [
    "A class is a blueprint that ables the creation of different abstract objects with the same caracteristics. These objects are called instances of the class."
   ]
  },
  {
   "cell_type": "code",
   "execution_count": 1,
   "metadata": {},
   "outputs": [],
   "source": [
    "class Person:\n",
    "\n",
    "    # The method called when an instance is initialised. A method is a function inside a class. This particular method is called the constructor.\n",
    "    def __init__(self, name: str, age: int) -> None:\n",
    "\n",
    "        # A first attribute\n",
    "        self.name = name\n",
    "\n",
    "        # A second attribute\n",
    "        self.age = age\n",
    "\n",
    "    # A different method. The self keyword refers to the instance being modified.\n",
    "    def celebrate_birthdays(self, number_of_birthdays: int = 1) -> None:\n",
    "        self.age += number_of_birthdays"
   ]
  },
  {
   "cell_type": "markdown",
   "metadata": {},
   "source": [
    "Here, two persons (instances of the class Person) are created: Alice with age 41 and William with age 99."
   ]
  },
  {
   "cell_type": "code",
   "execution_count": 2,
   "metadata": {},
   "outputs": [],
   "source": [
    "person1 = Person('Alice', 41)\n",
    "person2 = Person('William', 99)"
   ]
  },
  {
   "cell_type": "markdown",
   "metadata": {},
   "source": [
    "Attributes can be accessed and modified with the synthax object.attribute:"
   ]
  },
  {
   "cell_type": "code",
   "execution_count": 3,
   "metadata": {},
   "outputs": [
    {
     "name": "stdout",
     "output_type": "stream",
     "text": [
      "41\n",
      "William\n",
      "Bill\n"
     ]
    }
   ],
   "source": [
    "print(person1.age)\n",
    "print(person2.name)\n",
    "\n",
    "person2.name = 'Bill'\n",
    "\n",
    "print(person2.name)"
   ]
  },
  {
   "cell_type": "markdown",
   "metadata": {},
   "source": [
    "Methods can be used with the synthax object.method(parameter1, parameter2, ...):"
   ]
  },
  {
   "cell_type": "code",
   "execution_count": 4,
   "metadata": {},
   "outputs": [
    {
     "name": "stdout",
     "output_type": "stream",
     "text": [
      "43\n"
     ]
    }
   ],
   "source": [
    "person1.celebrate_birthdays(2)\n",
    "print(person1.age)"
   ]
  },
  {
   "cell_type": "markdown",
   "metadata": {},
   "source": [
    "An alternative way to call a method (this shows what the self keyword represents):"
   ]
  },
  {
   "cell_type": "code",
   "execution_count": 5,
   "metadata": {},
   "outputs": [
    {
     "name": "stdout",
     "output_type": "stream",
     "text": [
      "100\n"
     ]
    }
   ],
   "source": [
    "Person.celebrate_birthdays(person2)\n",
    "print(person2.age)"
   ]
  },
  {
   "cell_type": "markdown",
   "metadata": {},
   "source": [
    "A lot of other tutorials about classes can be found online. One example: https://en.wikibooks.org/wiki/A_Beginner%27s_Python_Tutorial/Classes."
   ]
  },
  {
   "cell_type": "markdown",
   "metadata": {},
   "source": [
    "### Inheritance"
   ]
  },
  {
   "cell_type": "markdown",
   "metadata": {},
   "source": [
    "In the reconstruction code, inheritance is only used in the pytorch framework. When a new class inherits from another class (the parent class), instances of this new class can also use the methods of the parent class."
   ]
  },
  {
   "cell_type": "code",
   "execution_count": 12,
   "metadata": {},
   "outputs": [],
   "source": [
    "# A class Mayor which inherits from the class Person\n",
    "class Mayor(Person):\n",
    "\n",
    "    def __init__(self, name: str, age: int, city: str) -> None:\n",
    "\n",
    "        # The constructor of the parent class is called, by using the keyword 'super'\n",
    "        super().__init__(name, age)\n",
    "\n",
    "        # Another attribute is added\n",
    "        self.city = city\n",
    "\n",
    "    # A method that can be called by instances of the Mayor class but not by the instances of the Person class.\n",
    "    def tax_evasion(self) -> None:\n",
    "        print(f\"{self.name}, mayor of {self.city}, is being prosecuted for tax evasion.\")\n"
   ]
  },
  {
   "cell_type": "markdown",
   "metadata": {},
   "source": [
    "A mayor instance is created. Its birthday can be celebrated and the tax_evasion() method can be called."
   ]
  },
  {
   "cell_type": "code",
   "execution_count": 14,
   "metadata": {},
   "outputs": [
    {
     "name": "stdout",
     "output_type": "stream",
     "text": [
      "56\n",
      "Bob, mayor of Roubaix, is being prosecuted for tax evasion.\n"
     ]
    }
   ],
   "source": [
    "person3 = Mayor('Bob', 55, 'Roubaix')\n",
    "\n",
    "person3.celebrate_birthdays()\n",
    "print(person3.age)\n",
    "\n",
    "person3.tax_evasion()"
   ]
  },
  {
   "cell_type": "markdown",
   "metadata": {},
   "source": [
    "However, Alice and William can't call this method:"
   ]
  },
  {
   "cell_type": "code",
   "execution_count": 15,
   "metadata": {},
   "outputs": [
    {
     "ename": "AttributeError",
     "evalue": "'Person' object has no attribute 'tax_evasion'",
     "output_type": "error",
     "traceback": [
      "\u001b[1;31m---------------------------------------------------------------------------\u001b[0m",
      "\u001b[1;31mAttributeError\u001b[0m                            Traceback (most recent call last)",
      "Cell \u001b[1;32mIn[15], line 1\u001b[0m\n\u001b[1;32m----> 1\u001b[0m \u001b[43mperson1\u001b[49m\u001b[38;5;241;43m.\u001b[39;49m\u001b[43mtax_evasion\u001b[49m()\n",
      "\u001b[1;31mAttributeError\u001b[0m: 'Person' object has no attribute 'tax_evasion'"
     ]
    }
   ],
   "source": [
    "person1.tax_evasion()"
   ]
  },
  {
   "cell_type": "markdown",
   "metadata": {},
   "source": [
    "### Class methods"
   ]
  },
  {
   "cell_type": "markdown",
   "metadata": {},
   "source": [
    "Class methods are particular methods that are used in the reconstruction code as alternative constructors. Here is the synthax used:"
   ]
  },
  {
   "cell_type": "code",
   "execution_count": 17,
   "metadata": {},
   "outputs": [],
   "source": [
    "import math\n",
    "\n",
    "# A class representing a point in a 2D plane.\n",
    "class Point2D:\n",
    "\n",
    "    # Basic constructor, the point is created with cartesian coordinates\n",
    "    def __init__(self, x: float, y:float) -> None:\n",
    "        self.x = x\n",
    "        self.y = y\n",
    "    \n",
    "    # Another constructor, the point is created here with polar coordinates\n",
    "    @classmethod\n",
    "    def from_polar_coordinates(cls, r: float, theta: float) -> 'Point2D':\n",
    "        x = r*math.cos(theta)\n",
    "        y = r*math.sin(theta)\n",
    "        return cls(x, y)\n",
    "\n",
    "    # A basic method\n",
    "    def get_norm(self) -> float:\n",
    "        return math.sqrt(self.x**2 + self.y**2)"
   ]
  },
  {
   "cell_type": "markdown",
   "metadata": {},
   "source": [
    "Two points are created with different constructors:"
   ]
  },
  {
   "cell_type": "code",
   "execution_count": 20,
   "metadata": {},
   "outputs": [
    {
     "name": "stdout",
     "output_type": "stream",
     "text": [
      "1.0 1.0\n",
      "0.7071067811865476 0.7071067811865476\n",
      "1.4142135623730951\n",
      "1.0\n"
     ]
    }
   ],
   "source": [
    "point1 = Point2D(1., 1.)\n",
    "point2 = Point2D.from_polar_coordinates(1., math.pi/4)\n",
    "\n",
    "print(point1.x, point1.y)\n",
    "print(point2.x, point2.y)\n",
    "\n",
    "print(point1.get_norm())\n",
    "print(point2.get_norm())"
   ]
  }
 ],
 "metadata": {
  "kernelspec": {
   "display_name": "abtem_env",
   "language": "python",
   "name": "python3"
  },
  "language_info": {
   "codemirror_mode": {
    "name": "ipython",
    "version": 3
   },
   "file_extension": ".py",
   "mimetype": "text/x-python",
   "name": "python",
   "nbconvert_exporter": "python",
   "pygments_lexer": "ipython3",
   "version": "3.11.9"
  }
 },
 "nbformat": 4,
 "nbformat_minor": 2
}
