{
 "cells": [
  {
   "cell_type": "markdown",
   "metadata": {},
   "source": [
    "A script to compare the performances of NNFBP and MSDNET to reconstruct random spheres with 9 projections."
   ]
  },
  {
   "cell_type": "code",
   "execution_count": 1,
   "metadata": {},
   "outputs": [],
   "source": [
    "### Imports ###\n",
    "from nntomo.utilities import get_MSE_loss\n",
    "from nntomo.network import nnfbp_training, msdnet_training\n",
    "from nntomo.nnfbp import DatasetNNFBP\n",
    "from nntomo.msdnet import DatasetMSDNET\n",
    "from nntomo.projection_stack import ProjectionStack\n",
    "from nntomo.volume import Volume\n",
    "\n",
    "%load_ext autoreload\n",
    "%autoreload 2\n",
    "%matplotlib widget"
   ]
  },
  {
   "cell_type": "code",
   "execution_count": 2,
   "metadata": {},
   "outputs": [
    {
     "name": "stdout",
     "output_type": "stream",
     "text": [
      "Generation of the spheres: [████████████████████████████████████████████████████████████] 40/40 Est wait 00:0.00\n",
      "\n",
      "Generation of the spheres: [████████████████████████████████████████████████████████████] 40/40 Est wait 00:0.00\n",
      "\n"
     ]
    }
   ],
   "source": [
    "# Generation of the training and validation datasets\n",
    "\n",
    "training_spheres = Volume.random_spheres(40, shape=512)\n",
    "training_projections = ProjectionStack.from_volume(training_spheres, 9, 'full')\n",
    "training_dataset_nnfbp = DatasetNNFBP(training_projections, training_spheres)\n",
    "training_dataset_msdnet = DatasetMSDNET(training_projections, training_spheres)\n",
    "\n",
    "validation_spheres = Volume.random_spheres(40, shape=512)\n",
    "validation_projections = ProjectionStack.from_volume(validation_spheres, 9, 'full')\n",
    "validation_dataset_nnfbp = DatasetNNFBP(validation_projections, validation_spheres)\n",
    "validation_dataset_msdnet = DatasetMSDNET(validation_projections, validation_spheres)"
   ]
  },
  {
   "cell_type": "code",
   "execution_count": 3,
   "metadata": {},
   "outputs": [
    {
     "name": "stdout",
     "output_type": "stream",
     "text": [
      "Epoch 190 (n=25) | Best avg MSELoss(): 0.002011 | End of training                                 \n",
      "Epoch 36 (n=25) | Best avg MSELoss(): 0.012045 | End of training                                 \n"
     ]
    }
   ],
   "source": [
    "# Training\n",
    "\n",
    "nnfbp = nnfbp_training(training_dataset_nnfbp, validation_dataset_nnfbp, 8, custom_id=\"nnfbp_network_comparison\")\n",
    "msdnet = msdnet_training(training_dataset_msdnet, validation_dataset_msdnet, depth=100, batch_size=2, max_epoch=50, learning_rate = 1e-3, custom_id=\"msdnet_network_comparison\")"
   ]
  },
  {
   "cell_type": "code",
   "execution_count": 6,
   "metadata": {},
   "outputs": [
    {
     "name": "stdout",
     "output_type": "stream",
     "text": [
      "Generation of the spheres: [████████████████████████████████████████████████████████████] 40/40 Est wait 00:0.00\n",
      "\n",
      "Reconstruction part 1/2: [████████████████████████████████████████████████████████████] 8/8 Est wait 00:0.0.0\n",
      "\n",
      "Reconstruction part 2/2: [████████████████████████████████████████████████████████████] 8/8 Est wait 00:0.0.0\n",
      "\n",
      "MSDNET forward: [████████████████████████████████████████████████████████████] 512/512 Est wait 00:0.00\n",
      "\n"
     ]
    }
   ],
   "source": [
    "# Reconstructions\n",
    "\n",
    "test_spheres = Volume.random_spheres(40, shape=512)\n",
    "test_projections = ProjectionStack.from_volume(training_spheres, 9, 'full')\n",
    "\n",
    "nnfbp_rec = test_projections.get_NNFBP_reconstruction(nnfbp)\n",
    "msdnet_rec = test_projections.get_MSDNET_reconstruction(msdnet)\n",
    "sirt_rec = test_projections.get_SIRT_reconstruction(force_positive_values=False)"
   ]
  },
  {
   "cell_type": "code",
   "execution_count": 7,
   "metadata": {},
   "outputs": [
    {
     "name": "stdout",
     "output_type": "stream",
     "text": [
      "MSE NNFBP = 0.011225931918368313\n",
      "MSE MSDNET = 0.008260020356706584\n",
      "MSE SIRT = 0.010212703419001875\n"
     ]
    }
   ],
   "source": [
    "# MSEs\n",
    "\n",
    "print(\"MSE NNFBP =\", get_MSE_loss(test_spheres, nnfbp_rec))\n",
    "print(\"MSE MSDNET =\", get_MSE_loss(test_spheres, msdnet_rec))\n",
    "print(\"MSE SIRT =\", get_MSE_loss(test_spheres, sirt_rec))"
   ]
  }
 ],
 "metadata": {
  "kernelspec": {
   "display_name": "abtem_env",
   "language": "python",
   "name": "python3"
  },
  "language_info": {
   "codemirror_mode": {
    "name": "ipython",
    "version": 3
   },
   "file_extension": ".py",
   "mimetype": "text/x-python",
   "name": "python",
   "nbconvert_exporter": "python",
   "pygments_lexer": "ipython3",
   "version": "3.11.9"
  }
 },
 "nbformat": 4,
 "nbformat_minor": 2
}
