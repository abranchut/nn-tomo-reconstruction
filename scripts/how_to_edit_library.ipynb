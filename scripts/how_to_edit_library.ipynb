{
 "cells": [
  {
   "cell_type": "markdown",
   "metadata": {},
   "source": [
    "We explain here how to install the library, how to modify it and how to import the modification on Github, specifically on the reconstruction computer. We also explain how to update the documentation.\n",
    "As a reminder, to install the library, run ``pip install .`` in the root folder. On the reconstruction computer:\n",
    "- Open software Anaconda Prompt,\n",
    "- Run ``conda activate abtem_env`` to be in the correct conda environment,\n",
    "- Run ``cd C:\\Users\\Admin-tomo\\Documents\\tomo-reconstruction-alix\\github_repository\\nn-tomo-reconstruction`` to go to the root folder,\n",
    "- Run ``pip install .``.\n",
    "\n",
    "To modify the library, directly edit the ``.py`` files in the ``src/nntomo`` folder. To apply the modifications, run again ``pip install .`` in the root folder.\n",
    "\n",
    "To import the modifications on GitHub:\n",
    "- Right click, ``Open Git Bash here`` in the root folder,\n",
    "- Run ``git add .`` to add to the index all the modifications made on the files,\n",
    "- Run ``git commit -m \"[info about made changes]\"`` to record all the changes made to the repository,\n",
    "- Run ``git push`` to import the modifications on GitHub.\n",
    "Go on https://git-scm.com/doc for more info on the Git version control system.\n",
    "\n",
    "To update the documentation, run ``make html`` in the ``docs`` folder. More precisely, on the reconstruction computer:\n",
    "- Open software Anaconda Prompt,\n",
    "- Run ``conda activate abtem_env`` to be in the correct conda environment,\n",
    "- Run ``cd C:\\Users\\Admin-tomo\\Documents\\tomo-reconstruction-alix\\github_repository\\nn-tomo-reconstruction\\docs`` to go to the folder,\n",
    "- Run ``make html``.\n",
    "- Corresponding html files are in the ``docs/build`` folder. The file ``C:\\Users\\Admin-tomo\\Documents\\tomo-reconstruction-alix\\github_repository\\documentation`` is a shortcut to the main page of the documentation."
   ]
  }
 ],
 "metadata": {
  "kernelspec": {
   "display_name": "abtem_env",
   "language": "python",
   "name": "python3"
  },
  "language_info": {
   "codemirror_mode": {
    "name": "ipython",
    "version": 3
   },
   "file_extension": ".py",
   "mimetype": "text/x-python",
   "name": "python",
   "nbconvert_exporter": "python",
   "pygments_lexer": "ipython3",
   "version": "3.11.9"
  }
 },
 "nbformat": 4,
 "nbformat_minor": 2
}
